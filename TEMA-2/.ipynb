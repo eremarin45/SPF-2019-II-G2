{
 "cells": [
  {
   "cell_type": "markdown",
   "metadata": {},
   "source": [
    ">### <font color ='red'> Ejemplo 3  **Tarea** \n",
    ">El tiempo en el cual un movimiento browniano se mantiene sobre su punto máximo en el intervalo [0,1] tiene una distribución\n",
    ">$$F(x)=\\frac{2}{\\pi}\\sin^{-1}(\\sqrt x),\\quad 0\\leq x\\leq 1$$ </font>\n",
    "Genere muestres aleatorias que distribuyan según la función dada usando el método de la transformada inversa y grafique en una gráfica el historias 100 muestras generadas y comparela con el función F(x) dada, esto con el fín de validar que el procedimiento fue realizado de manera correcta"
   ]
  },
  {
   "cell_type": "code",
   "execution_count": 25,
   "metadata": {},
   "outputs": [],
   "source": [
    "import numpy as np\n",
    "import scipy.stats as ss\n",
    "from scipy.stats import rayleigh\n",
    "import statsmodels as st\n",
    "import matplotlib.pyplot as plt\n",
    "from sympy import Derivative, diff, simplify\n",
    "import matplotlib.pyplot as plt"
   ]
  },
  {
   "cell_type": "code",
   "execution_count": null,
   "metadata": {},
   "outputs": [],
   "source": [
    "u=(2/np.pi)*np.arcos(root(x))\n"
   ]
  },
  {
   "cell_type": "code",
   "execution_count": 26,
   "metadata": {},
   "outputs": [
    {
     "data": {
      "text/plain": [
       "[<matplotlib.lines.Line2D at 0x1a18452110>]"
      ]
     },
     "execution_count": 26,
     "metadata": {},
     "output_type": "execute_result"
    },
    {
     "data": {
      "image/png": "[encoded data removed]",
      "text/plain": [
       "<Figure size 432x288 with 1 Axes>"
      ]
     },
     "metadata": {
      "needs_background": "light"
     },
     "output_type": "display_data"
    }
   ],
   "source": [
    "N=10**6\n",
    "def d_fun(N):\n",
    "    U= np.random(N)\n",
    "    return np.sin(np.pi*U/2)**2\n",
    "f= lambda x: 1/(np.pi*np.sqrt(x)*np.sqrt(1-x))\n",
    "#dominio 0<=x<=1\n",
    "x=np.arange(0.1,.99,.01)\n",
    "plt.plot(x,f(x))\n"
   ]
  },
  {
   "cell_type": "code",
   "execution_count": 28,
   "metadata": {},
   "outputs": [
    {
     "ename": "TypeError",
     "evalue": "'module' object is not callable",
     "output_type": "error",
     "traceback": [
      "\u001b[0;31m---------------------------------------------------------------------------\u001b[0m",
      "\u001b[0;31mTypeError\u001b[0m                                 Traceback (most recent call last)",
      "\u001b[0;32m<ipython-input-28-0707a7a582c4>\u001b[0m in \u001b[0;36m<module>\u001b[0;34m()\u001b[0m\n\u001b[1;32m      1\u001b[0m \u001b[0;34m\u001b[0m\u001b[0m\n\u001b[0;32m----> 2\u001b[0;31m \u001b[0md\u001b[0m \u001b[0;34m=\u001b[0m \u001b[0md_fun\u001b[0m\u001b[0;34m(\u001b[0m\u001b[0mN\u001b[0m\u001b[0;34m)\u001b[0m\u001b[0;34m\u001b[0m\u001b[0m\n\u001b[0m\u001b[1;32m      3\u001b[0m \u001b[0mplt\u001b[0m\u001b[0;34m.\u001b[0m\u001b[0mhist\u001b[0m\u001b[0;34m(\u001b[0m\u001b[0md\u001b[0m\u001b[0;34m,\u001b[0m \u001b[0mbins\u001b[0m\u001b[0;34m=\u001b[0m \u001b[0;36m100\u001b[0m\u001b[0;34m,\u001b[0m \u001b[0mdensity\u001b[0m\u001b[0;34m=\u001b[0m\u001b[0mTrue\u001b[0m\u001b[0;34m)\u001b[0m\u001b[0;34m\u001b[0m\u001b[0m\n\u001b[1;32m      4\u001b[0m \u001b[0mplt\u001b[0m\u001b[0;34m.\u001b[0m\u001b[0mshow\u001b[0m\u001b[0;34m(\u001b[0m\u001b[0;34m)\u001b[0m\u001b[0;34m\u001b[0m\u001b[0m\n",
      "\u001b[0;32m<ipython-input-26-172f9b244b24>\u001b[0m in \u001b[0;36md_fun\u001b[0;34m(N)\u001b[0m\n\u001b[1;32m      1\u001b[0m \u001b[0mN\u001b[0m\u001b[0;34m=\u001b[0m\u001b[0;36m10\u001b[0m\u001b[0;34m**\u001b[0m\u001b[0;36m6\u001b[0m\u001b[0;34m\u001b[0m\u001b[0m\n\u001b[1;32m      2\u001b[0m \u001b[0;32mdef\u001b[0m \u001b[0md_fun\u001b[0m\u001b[0;34m(\u001b[0m\u001b[0mN\u001b[0m\u001b[0;34m)\u001b[0m\u001b[0;34m:\u001b[0m\u001b[0;34m\u001b[0m\u001b[0m\n\u001b[0;32m----> 3\u001b[0;31m     \u001b[0mU\u001b[0m\u001b[0;34m=\u001b[0m \u001b[0mnp\u001b[0m\u001b[0;34m.\u001b[0m\u001b[0mrandom\u001b[0m\u001b[0;34m(\u001b[0m\u001b[0mN\u001b[0m\u001b[0;34m)\u001b[0m\u001b[0;34m\u001b[0m\u001b[0m\n\u001b[0m\u001b[1;32m      4\u001b[0m     \u001b[0;32mreturn\u001b[0m \u001b[0mnp\u001b[0m\u001b[0;34m.\u001b[0m\u001b[0msin\u001b[0m\u001b[0;34m(\u001b[0m\u001b[0mnp\u001b[0m\u001b[0;34m.\u001b[0m\u001b[0mpi\u001b[0m\u001b[0;34m*\u001b[0m\u001b[0mU\u001b[0m\u001b[0;34m/\u001b[0m\u001b[0;36m2\u001b[0m\u001b[0;34m)\u001b[0m\u001b[0;34m**\u001b[0m\u001b[0;36m2\u001b[0m\u001b[0;34m\u001b[0m\u001b[0m\n\u001b[1;32m      5\u001b[0m \u001b[0mf\u001b[0m\u001b[0;34m=\u001b[0m \u001b[0;32mlambda\u001b[0m \u001b[0mx\u001b[0m\u001b[0;34m:\u001b[0m \u001b[0;36m1\u001b[0m\u001b[0;34m/\u001b[0m\u001b[0;34m(\u001b[0m\u001b[0mnp\u001b[0m\u001b[0;34m.\u001b[0m\u001b[0mpi\u001b[0m\u001b[0;34m*\u001b[0m\u001b[0mnp\u001b[0m\u001b[0;34m.\u001b[0m\u001b[0msqrt\u001b[0m\u001b[0;34m(\u001b[0m\u001b[0mx\u001b[0m\u001b[0;34m)\u001b[0m\u001b[0;34m*\u001b[0m\u001b[0mnp\u001b[0m\u001b[0;34m.\u001b[0m\u001b[0msqrt\u001b[0m\u001b[0;34m(\u001b[0m\u001b[0;36m1\u001b[0m\u001b[0;34m-\u001b[0m\u001b[0mx\u001b[0m\u001b[0;34m)\u001b[0m\u001b[0;34m)\u001b[0m\u001b[0;34m\u001b[0m\u001b[0m\n",
      "\u001b[0;31mTypeError\u001b[0m: 'module' object is not callable"
     ]
    }
   ],
   "source": [
    "d = d_fun(N)\n",
    "plt.hist(d, bins= 100, density=True)\n",
    "plt.show()"
   ]
  },
  {
   "cell_type": "markdown",
   "metadata": {},
   "source": [
    "### Ejemplo 4\n",
    "Distribución de Rayleigh\n",
    "$$F(x)=1-e^{-2x(x-b)},\\quad x\\geq b $$"
   ]
  },
  {
   "cell_type": "code",
   "execution_count": 19,
   "metadata": {},
   "outputs": [],
   "source": [
    "#derivar F(x) para obtener f(x)\n",
    "import numpy as np\n",
    "import scipy.stats as ss\n",
    "from scipy.stats import rayleigh\n",
    "import statsmodels as st\n",
    "import matplotlib.pyplot as plt\n",
    "from sympy import Derivative, diff, simplify\n",
    "import matplotlib.pyplot as plt\n",
    "#lambda x: np.diff(1-np.exp*(-2*x*(x-b))) "
   ]
  },
  {
   "cell_type": "code",
   "execution_count": null,
   "metadata": {},
   "outputs": [],
   "source": []
  },
  {
   "cell_type": "code",
   "execution_count": 20,
   "metadata": {},
   "outputs": [
    {
     "data": {
      "image/png": "[encoded data removed]",
      "text/plain": [
       "<Figure size 432x288 with 1 Axes>"
      ]
     },
     "metadata": {
      "needs_background": "light"
     },
     "output_type": "display_data"
    }
   ],
   "source": [
    "def D_ray(x,b):\n",
    "    return np.diff(1-np.exp*(-2*x*(x-b)))\n",
    "r = rayleigh.rvs(size=1000)\n",
    "plt.hist(r, density=True, histtype='stepfilled', alpha=0.2)\n",
    "plt.legend(loc='best', frameon=False)\n",
    "plt.show()\n",
    "\n"
   ]
  },
  {
   "cell_type": "code",
   "execution_count": 21,
   "metadata": {},
   "outputs": [
    {
     "data": {
      "image/png": "[encoded data removed]",
      "text/plain": [
       "<Figure size 432x288 with 1 Axes>"
      ]
     },
     "metadata": {
      "needs_background": "light"
     },
     "output_type": "display_data"
    }
   ],
   "source": [
    "values = plt.hist(np.random.rayleigh(3, 100000), bins=200, density=True)"
   ]
  },
  {
   "cell_type": "markdown",
   "metadata": {},
   "source": [
    "### Ejemplo binomial: \n",
    "La distribución binomial modela el número de éxitos de n ensayos independientes donde hay una probabilidad p de éxito en cada ensayo.\n",
    "\n",
    "Generar una variable aletoria binomial con parámetros $n=10$ y $p=0.7$. Recordar que\n",
    "$$X\\sim binomial(n,p) \\longrightarrow p_i=P(X=i)=\\frac{n!}{i!(n-i)!}p^i(1-p)^{n-i},\\quad i=0,1,\\cdots,n$$\n",
    "> ## <font color ='red'>Tarea: Demostrar la validez de la siguiente ecuación\n",
    ">$$p_{i+1}=\\frac{n-i}{i+1}\\frac{p}{1-p} p_i \\longrightarrow \\text{Hablar de las ventajas que sea recursiva}$$"
   ]
  },
  {
   "cell_type": "code",
   "execution_count": 22,
   "metadata": {},
   "outputs": [],
   "source": [
    "#generarU, verificar si cumple X=0\n",
    "#Comparar la aumulada hasta n"
   ]
  },
  {
   "cell_type": "code",
   "execution_count": 24,
   "metadata": {},
   "outputs": [
    {
     "ename": "SyntaxError",
     "evalue": "invalid syntax (<ipython-input-24-9eef41db4b49>, line 1)",
     "output_type": "error",
     "traceback": [
      "\u001b[0;36m  File \u001b[0;32m\"<ipython-input-24-9eef41db4b49>\"\u001b[0;36m, line \u001b[0;32m1\u001b[0m\n\u001b[0;31m    n=\u001b[0m\n\u001b[0m      ^\u001b[0m\n\u001b[0;31mSyntaxError\u001b[0m\u001b[0;31m:\u001b[0m invalid syntax\n"
     ]
    }
   ],
   "source": [
    "n=\n",
    "p=np.zeros(N)\n",
    "N=\n",
    "P[0]=(1-p)**n\n",
    "\n",
    "\n",
    "----\n",
    "for i in range (N):\n",
    "    p.append(pi+1#toda la expresion)((n-i)/(i+1))*(p/(1-p)*p[-1])\n",
    "\n",
    "#crear la binomial\n",
    "# Función que calcula la probabilidad acumulada\n",
    "def P_acum_Binomial(n,p):\n",
    "    c  = p/(1-p)\n",
    "    pr = [(1-p)**n]\n",
    "    add = pr.append\n",
    "    for i in range(n+1):\n",
    "        add((c*(n-i)/(i+1))*pr[-1])\n",
    "    return np.cumsum(pr)\n",
    "----         \n",
    "#quitar for \n",
    "#se crea un vector y se llena\n",
    "n=\n",
    "p=np.zeros(N)\n",
    "N=\n",
    "P[0]=(1-p)**n\n",
    "def P_acum_Binomial(n,p): #sera global para usarla en cualqioer momento, para recursividad crear otra func dentro de la global\n",
    "             p=np.zeros(N)\n",
    "             P[0]=(1-p)**n\n",
    "             def llenar_vector(i): #contador de 0 a 1\n",
    "             global p\n",
    "             p[i+1]=((c*(n-i)/(i+1))*p[i])\n",
    "             #compresion de listas, llama al vector de ceros\n",
    "             [llenar_vector(i) for i in range(N-1)]\n",
    "             return np.cumsum(p)"
   ]
  },
  {
   "cell_type": "code",
   "execution_count": null,
   "metadata": {},
   "outputs": [],
   "source": []
  }
 ],
 "metadata": {
  "kernelspec": {
   "display_name": "Python 2",
   "language": "python",
   "name": "python2"
  },
  "language_info": {
   "codemirror_mode": {
    "name": "ipython",
    "version": 2
   },
   "file_extension": ".py",
   "mimetype": "text/x-python",
   "name": "python",
   "nbconvert_exporter": "python",
   "pygments_lexer": "ipython2",
   "version": "2.7.16"
  }
 },
 "nbformat": 4,
 "nbformat_minor": 2
}
